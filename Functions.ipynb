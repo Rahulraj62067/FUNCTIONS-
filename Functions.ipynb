{
  "nbformat": 4,
  "nbformat_minor": 0,
  "metadata": {
    "colab": {
      "provenance": []
    },
    "kernelspec": {
      "name": "python3",
      "display_name": "Python 3"
    },
    "language_info": {
      "name": "python"
    }
  },
  "cells": [
    {
      "cell_type": "markdown",
      "source": [
        "#FUNCTION THEORY:"
      ],
      "metadata": {
        "id": "EJkCMLzB927M"
      }
    },
    {
      "cell_type": "markdown",
      "source": [
        "1.What is the difference between a function and a method in Python?             \n",
        "->In Python:                                                                    \n",
        "\n",
        "Function: A standalone block of reusable code defined using def. It is not tied to any object.                                                                  \n",
        "\n",
        "Example:"
      ],
      "metadata": {
        "id": "3dP6ccoW-FPM"
      }
    },
    {
      "cell_type": "code",
      "source": [
        "def greet(name):\n",
        "    return f\"Hello, {name}!\"\n",
        "print(greet(\"Rahul\"))"
      ],
      "metadata": {
        "colab": {
          "base_uri": "https://localhost:8080/"
        },
        "id": "5PkOKB7w-sPJ",
        "outputId": "08bc9fac-f13f-4941-870e-30824e0bbedd"
      },
      "execution_count": null,
      "outputs": [
        {
          "output_type": "stream",
          "name": "stdout",
          "text": [
            "Hello, Rahul!\n"
          ]
        }
      ]
    },
    {
      "cell_type": "markdown",
      "source": [
        "Method: A function that is bound to an object and can access that object's      data. Defined within a class.                                                   \n",
        "\n",
        "Example:                                                                        "
      ],
      "metadata": {
        "id": "vssI3IN9_Lor"
      }
    },
    {
      "cell_type": "code",
      "source": [
        "class Greeter:\n",
        "    def greet(self, name):\n",
        "        return f\"Hello, {name}!\"\n",
        "\n",
        "greeter = Greeter()\n",
        "print(greeter.greet(\"Aman\"))"
      ],
      "metadata": {
        "colab": {
          "base_uri": "https://localhost:8080/"
        },
        "id": "Q7B1Ql3Q_SzF",
        "outputId": "b6286f2c-750c-455f-ea09-6b947035f0e6"
      },
      "execution_count": null,
      "outputs": [
        {
          "output_type": "stream",
          "name": "stdout",
          "text": [
            "Hello, Aman!\n"
          ]
        }
      ]
    },
    {
      "cell_type": "markdown",
      "source": [
        "Key difference: A method operates on an instance (accessed via self), while a   function is independent."
      ],
      "metadata": {
        "id": "yuDSJuxb_iMT"
      }
    },
    {
      "cell_type": "markdown",
      "source": [
        "2.Explain the concept of function arguments and parameters in Python.           \n",
        "->Parameters: Variables defined in a function declaration that act as           placeholders for the values the function expects.                               \n",
        "\n",
        "Example:                                                                   "
      ],
      "metadata": {
        "id": "ZvJMgCUQ_upZ"
      }
    },
    {
      "cell_type": "code",
      "source": [
        "def greet(name):\n",
        "    return f\"Hello, {name}!\""
      ],
      "metadata": {
        "id": "G_ZfRbUBAN6R"
      },
      "execution_count": null,
      "outputs": []
    },
    {
      "cell_type": "markdown",
      "source": [
        "Arguments: The actual values passed to a function when it is called.            \n",
        "\n",
        "Example:"
      ],
      "metadata": {
        "id": "nXwiJq_ZAZxM"
      }
    },
    {
      "cell_type": "code",
      "source": [
        "print(greet(\"Swati\"))"
      ],
      "metadata": {
        "colab": {
          "base_uri": "https://localhost:8080/"
        },
        "id": "f6VC6VfYAUFh",
        "outputId": "80b46761-320b-4a2c-d143-2131ab9c5c40"
      },
      "execution_count": null,
      "outputs": [
        {
          "output_type": "stream",
          "name": "stdout",
          "text": [
            "Hello, Swati!\n"
          ]
        }
      ]
    },
    {
      "cell_type": "markdown",
      "source": [
        "Parameters are placeholders; arguments are the real data passed during function calls."
      ],
      "metadata": {
        "id": "0tssk2DBAYzs"
      }
    },
    {
      "cell_type": "markdown",
      "source": [
        "3.?What are the different ways to define and call a function in Python?         \n",
        "->In Python, functions can be defined and called in several ways:               \n",
        "\n",
        "1. Regular Function                                                             \n",
        "Defined using def, called with its name.\n"
      ],
      "metadata": {
        "id": "5wmFmTTRYgBL"
      }
    },
    {
      "cell_type": "code",
      "source": [
        "def add(a, b):\n",
        "    return a + b\n",
        "\n",
        "print(add(2, 3))"
      ],
      "metadata": {
        "colab": {
          "base_uri": "https://localhost:8080/"
        },
        "id": "0MxUJB7FYyjK",
        "outputId": "c7457de7-0332-41b2-a1bb-9fbf254c18a9"
      },
      "execution_count": null,
      "outputs": [
        {
          "output_type": "stream",
          "name": "stdout",
          "text": [
            "5\n"
          ]
        }
      ]
    },
    {
      "cell_type": "code",
      "source": [],
      "metadata": {
        "id": "2RWJbUd2Y_-k"
      },
      "execution_count": null,
      "outputs": []
    },
    {
      "cell_type": "markdown",
      "source": [
        "2.Lambda Function                                                               \n",
        "An anonymous, single-expression function."
      ],
      "metadata": {
        "id": "V9ITxlLvZIaS"
      }
    },
    {
      "cell_type": "code",
      "source": [
        "add = lambda a, b: a + b\n",
        "print(add(2, 3))"
      ],
      "metadata": {
        "colab": {
          "base_uri": "https://localhost:8080/"
        },
        "id": "ZMTnyKxVZOEX",
        "outputId": "5d61cbfc-bf6e-4fa5-a6cf-322624fb9151"
      },
      "execution_count": null,
      "outputs": [
        {
          "output_type": "stream",
          "name": "stdout",
          "text": [
            "5\n"
          ]
        }
      ]
    },
    {
      "cell_type": "markdown",
      "source": [
        "3.Default Arguments                                                             \n",
        "Provides default values for parameters."
      ],
      "metadata": {
        "id": "mc3iuzAsZY2b"
      }
    },
    {
      "cell_type": "code",
      "source": [
        "def greet(name=\"Rahul\"):\n",
        "    return f\"Hello, {name}!\"\n",
        "\n",
        "print(greet())\n",
        "print(greet(\"Aman\"))"
      ],
      "metadata": {
        "colab": {
          "base_uri": "https://localhost:8080/"
        },
        "id": "gvB6xUYnZTBp",
        "outputId": "f5f8a894-3cc8-4b83-cddd-161aa7bc665e"
      },
      "execution_count": null,
      "outputs": [
        {
          "output_type": "stream",
          "name": "stdout",
          "text": [
            "Hello, Rahul!\n",
            "Hello, Aman!\n"
          ]
        }
      ]
    },
    {
      "cell_type": "markdown",
      "source": [
        "4.Keyword Arguments                                                             \n",
        "Pass arguments by name."
      ],
      "metadata": {
        "id": "J820ZhVaZrud"
      }
    },
    {
      "cell_type": "code",
      "source": [
        "def introduce(name, age):\n",
        "    return f\"{name} is {age} years old.\"\n",
        "\n",
        "print(introduce(age=22, name=\"Singh\"))\n"
      ],
      "metadata": {
        "colab": {
          "base_uri": "https://localhost:8080/"
        },
        "id": "BaKQoivOZnd5",
        "outputId": "5f3b56f6-2231-449a-c79a-022acedbf1c7"
      },
      "execution_count": null,
      "outputs": [
        {
          "output_type": "stream",
          "name": "stdout",
          "text": [
            "Singh is 22 years old.\n"
          ]
        }
      ]
    },
    {
      "cell_type": "markdown",
      "source": [
        "5.Variable-Length Arguments                                                     \n",
        "For flexible numbers of arguments."
      ],
      "metadata": {
        "id": "4J4Igh5sZ9hf"
      }
    },
    {
      "cell_type": "code",
      "source": [
        "def total(*args):\n",
        "    return sum(args)\n",
        "\n",
        "print(total(1, 2, 3, 4))"
      ],
      "metadata": {
        "colab": {
          "base_uri": "https://localhost:8080/"
        },
        "id": "peWc3n-lZ6fu",
        "outputId": "ca65dfe2-5351-47be-d14c-4b3f5c74fe9f"
      },
      "execution_count": null,
      "outputs": [
        {
          "output_type": "stream",
          "name": "stdout",
          "text": [
            "10\n"
          ]
        }
      ]
    },
    {
      "cell_type": "markdown",
      "source": [
        "6.Function with **kwargs                                                        \n",
        "Accepts arbitrary keyword arguments."
      ],
      "metadata": {
        "id": "0rLFPkaLaODv"
      }
    },
    {
      "cell_type": "code",
      "source": [
        "def details(**kwargs):\n",
        "    return kwargs\n",
        "\n",
        "print(details(name=\"Rahul\", age=18))"
      ],
      "metadata": {
        "colab": {
          "base_uri": "https://localhost:8080/"
        },
        "id": "AutS3nTRaKLG",
        "outputId": "c9bef8ab-831b-45ef-9cf9-ef6cc65c27c3"
      },
      "execution_count": null,
      "outputs": [
        {
          "output_type": "stream",
          "name": "stdout",
          "text": [
            "{'name': 'Rahul', 'age': 18}\n"
          ]
        }
      ]
    },
    {
      "cell_type": "markdown",
      "source": [
        "4.What is the purpose of the `return` statement in a Python function?           \n",
        "->The return statement in a Python function is used to send a result or value   back to the caller. It marks the end of the function's execution and specifies  the output.                                                                     \n",
        "\n",
        "Example:\n"
      ],
      "metadata": {
        "id": "4yxhUHe5akyu"
      }
    },
    {
      "cell_type": "code",
      "source": [
        "def add(a, b):\n",
        "    return a + b\n",
        "\n",
        "result = add(3, 5)\n",
        "print(result)"
      ],
      "metadata": {
        "colab": {
          "base_uri": "https://localhost:8080/"
        },
        "id": "P4uAnqwvadvo",
        "outputId": "d6ace12e-d217-485c-9778-2087585f0500"
      },
      "execution_count": null,
      "outputs": [
        {
          "output_type": "stream",
          "name": "stdout",
          "text": [
            "8\n"
          ]
        }
      ]
    },
    {
      "cell_type": "markdown",
      "source": [
        "Purpose: It allows a function to produce a value for further use. Without       return, the function outputs"
      ],
      "metadata": {
        "id": "gN1pGbLGbKsP"
      }
    },
    {
      "cell_type": "markdown",
      "source": [
        "5.What are iterators in Python and how do they differ from iterables?           \n",
        "->Iterables: Objects that can be looped over (e.g., lists, tuples, strings).    They have an __iter__() method that returns an iterator.                        \n",
        "\n",
        "Example:"
      ],
      "metadata": {
        "id": "8jUCaHklmB2B"
      }
    },
    {
      "cell_type": "code",
      "source": [
        "my_list = [1, 2, 3]\n",
        "for item in my_list:\n",
        "    print(item)"
      ],
      "metadata": {
        "colab": {
          "base_uri": "https://localhost:8080/"
        },
        "id": "xe04uAtLbWw_",
        "outputId": "9c833b28-a0bf-445d-f90d-f025ab9c1bcc"
      },
      "execution_count": null,
      "outputs": [
        {
          "output_type": "stream",
          "name": "stdout",
          "text": [
            "1\n",
            "2\n",
            "3\n"
          ]
        }
      ]
    },
    {
      "cell_type": "markdown",
      "source": [
        "-Iterators: Objects that represent a stream of data. They have __iter__() and   __next__() methods to retrieve elements one at a time.                          \n",
        "\n",
        "Example:\n"
      ],
      "metadata": {
        "id": "yMHQltFDnkjl"
      }
    },
    {
      "cell_type": "code",
      "source": [
        "my_iter = iter(my_list)\n",
        "print(next(my_iter))\n",
        "print(next(my_iter))"
      ],
      "metadata": {
        "colab": {
          "base_uri": "https://localhost:8080/"
        },
        "id": "3QHft7WZnQqL",
        "outputId": "74715f91-86be-41a0-9267-828ab64b3dc9"
      },
      "execution_count": null,
      "outputs": [
        {
          "output_type": "stream",
          "name": "stdout",
          "text": [
            "1\n",
            "2\n"
          ]
        }
      ]
    },
    {
      "cell_type": "markdown",
      "source": [
        "Difference:                                                                     \n",
        "\n",
        "Iterable can generate an iterator using iter().                                 \n",
        "Iterator is used to fetch items one by one with next().                         \n",
        "Iterators are exhausted after one traversal; iterables can be reused."
      ],
      "metadata": {
        "id": "ct8vaUfgn-U3"
      }
    },
    {
      "cell_type": "markdown",
      "source": [
        "6.Explain the concept of generators in Python and how they are defined.         \n",
        "->Generators in Python are a type of iterator that allow you to create          sequences of values lazily (on demand) using a special kind of function.        \n",
        "\n",
        "Key Points:                                                                     \n",
        "-Defined using a function with the yield keyword instead of return.              \n",
        "-They produce values one at a time and maintain their state between calls.       \n",
        "-More memory-efficient than lists for large sequences.                           \n",
        "Example:"
      ],
      "metadata": {
        "id": "LLXI2SfpoK9h"
      }
    },
    {
      "cell_type": "code",
      "source": [
        "def count_up_to(n):\n",
        "    count = 1\n",
        "    while count <= n:\n",
        "        yield count\n",
        "        count += 1\n",
        "\n",
        "gen = count_up_to(3)\n",
        "print(next(gen))\n",
        "print(next(gen))"
      ],
      "metadata": {
        "colab": {
          "base_uri": "https://localhost:8080/"
        },
        "id": "NUCvyhnnn3JR",
        "outputId": "49ddaf38-6088-42ec-954c-002fd6400192"
      },
      "execution_count": null,
      "outputs": [
        {
          "output_type": "stream",
          "name": "stdout",
          "text": [
            "1\n",
            "2\n"
          ]
        }
      ]
    },
    {
      "cell_type": "markdown",
      "source": [
        "Benefits:                                                                       \n",
        "-Lazy evaluation: Values are generated only when needed.                        \n",
        "-Ideal for large datasets or infinite sequences."
      ],
      "metadata": {
        "id": "UTrhRMNTo_59"
      }
    },
    {
      "cell_type": "markdown",
      "source": [
        "7.What are the advantages of using generators over regular functions?           \n",
        "->Generators offer several advantages over regular functions:                   \n",
        "\n",
        "1.Memory Efficiency                                                             \n",
        "Generators produce items one at a time using yield, so they don't require       storing the entire sequence in memory."
      ],
      "metadata": {
        "id": "6al3yHlcpIM2"
      }
    },
    {
      "cell_type": "code",
      "source": [
        "def large_sequence():\n",
        "    for i in range(10**6):\n",
        "        yield i"
      ],
      "metadata": {
        "id": "tCWfSfSjo7YX"
      },
      "execution_count": null,
      "outputs": []
    },
    {
      "cell_type": "markdown",
      "source": [
        "2.Lazy Evaluation                                                               \n",
        "Values are generated on demand, making them ideal for handling large or         infinite data streams."
      ],
      "metadata": {
        "id": "zZnv-wuFpro8"
      }
    },
    {
      "cell_type": "code",
      "source": [
        "def infinite_numbers():\n",
        "    n = 0\n",
        "    while True:\n",
        "        yield n\n",
        "        n += 1"
      ],
      "metadata": {
        "id": "bobWzUqoplF2"
      },
      "execution_count": null,
      "outputs": []
    },
    {
      "cell_type": "markdown",
      "source": [
        "3. Simpler Code for Iteration                                                   \n",
        "Generators simplify code compared to manually implementing iterators with       __iter__() and __next__()."
      ],
      "metadata": {
        "id": "0ABiaWGVp3pn"
      }
    },
    {
      "cell_type": "code",
      "source": [
        "def squares(n):\n",
        "    for i in range(n):\n",
        "        yield i**2"
      ],
      "metadata": {
        "id": "MCen4hcUp1ZW"
      },
      "execution_count": null,
      "outputs": []
    },
    {
      "cell_type": "markdown",
      "source": [
        "4.Improved Performance                                                          \n",
        "Generators avoid the overhead of creating and storing large data structures,    leading to faster execution for certain tasks.                                  \n",
        "\n",
        "5.Pipeline Capability                                                           \n",
        "Generators can be chained together to create pipelines for data processing."
      ],
      "metadata": {
        "id": "XRGLpVenqJe3"
      }
    },
    {
      "cell_type": "code",
      "source": [
        "def even_numbers(numbers):\n",
        "    for num in numbers:\n",
        "        if num % 2 == 0:\n",
        "            yield num"
      ],
      "metadata": {
        "id": "rV7DQiBBqFqK"
      },
      "execution_count": null,
      "outputs": []
    },
    {
      "cell_type": "markdown",
      "source": [
        "8.What is a lambda function in Python and when is it typically used?            \n",
        "->A lambda function in Python is an anonymous, single-expression function       defined using the lambda keyword. It is compact and does not require a def      statement.                                                                      \n",
        "\n",
        "Syntax:"
      ],
      "metadata": {
        "id": "on1gTLgvqYT3"
      }
    },
    {
      "cell_type": "code",
      "source": [
        "lambda arguments: expression"
      ],
      "metadata": {
        "colab": {
          "base_uri": "https://localhost:8080/"
        },
        "id": "d7i_b16oqXG1",
        "outputId": "2f6b3768-c964-485e-92e8-1def37b4046e"
      },
      "execution_count": null,
      "outputs": [
        {
          "output_type": "execute_result",
          "data": {
            "text/plain": [
              "<function __main__.<lambda>(arguments)>"
            ]
          },
          "metadata": {},
          "execution_count": 16
        }
      ]
    },
    {
      "cell_type": "markdown",
      "source": [
        "Example:"
      ],
      "metadata": {
        "id": "DpENI-qNq9U5"
      }
    },
    {
      "cell_type": "code",
      "source": [
        "square = lambda x: x**2\n",
        "print(square(4))"
      ],
      "metadata": {
        "colab": {
          "base_uri": "https://localhost:8080/"
        },
        "id": "Dk7yx9Ypq5Hk",
        "outputId": "17d1edb9-1ea6-41bb-fcdd-d7484acd63bb"
      },
      "execution_count": null,
      "outputs": [
        {
          "output_type": "stream",
          "name": "stdout",
          "text": [
            "16\n"
          ]
        }
      ]
    },
    {
      "cell_type": "markdown",
      "source": [
        "1.Typical Uses:                                                                 \n",
        "Short, Simple Functions: When the function logic is minimal and does not        require a name."
      ],
      "metadata": {
        "id": "O6yzZCYXrEnJ"
      }
    },
    {
      "cell_type": "code",
      "source": [
        "add = lambda x, y: x + y\n",
        "print(add(2, 3))"
      ],
      "metadata": {
        "colab": {
          "base_uri": "https://localhost:8080/"
        },
        "id": "EpE2ZU35rCxE",
        "outputId": "9d6f57d6-a87d-4004-b956-2d9dfa24f29e"
      },
      "execution_count": null,
      "outputs": [
        {
          "output_type": "stream",
          "name": "stdout",
          "text": [
            "5\n"
          ]
        }
      ]
    },
    {
      "cell_type": "markdown",
      "source": [
        "2.As Arguments to Higher-Order Functions:"
      ],
      "metadata": {
        "id": "U9kpWSlIrbcE"
      }
    },
    {
      "cell_type": "code",
      "source": [
        "numbers = [1, 2, 3, 4]\n",
        "doubled = map(lambda x: x * 2, numbers)\n",
        "print(list(doubled))"
      ],
      "metadata": {
        "colab": {
          "base_uri": "https://localhost:8080/"
        },
        "id": "P4G_hMZlrW9x",
        "outputId": "9c4920c5-6189-4fdc-f7ed-48135b250d34"
      },
      "execution_count": null,
      "outputs": [
        {
          "output_type": "stream",
          "name": "stdout",
          "text": [
            "[2, 4, 6, 8]\n"
          ]
        }
      ]
    },
    {
      "cell_type": "markdown",
      "source": [
        "3.Sorting with Custom Keys:"
      ],
      "metadata": {
        "id": "hQCVzBFsrjkK"
      }
    },
    {
      "cell_type": "code",
      "source": [
        "words = [\"guava\", \"orange\", \"grapes\"]\n",
        "sorted_words = sorted(words, key=lambda w: len(w))\n",
        "print(sorted_words)"
      ],
      "metadata": {
        "colab": {
          "base_uri": "https://localhost:8080/"
        },
        "id": "0sadijKZric9",
        "outputId": "5bf3c36e-db5a-4465-ff57-73346b8f0f31"
      },
      "execution_count": null,
      "outputs": [
        {
          "output_type": "stream",
          "name": "stdout",
          "text": [
            "['guava', 'orange', 'grapes']\n"
          ]
        }
      ]
    },
    {
      "cell_type": "markdown",
      "source": [
        "9.Explain the purpose and usage of the `map()` function in Python.              \n",
        "->The map() function in Python applies a given function to each item in an      iterable (e.g., list, tuple) and returns a map object (an iterator) with the    results.                                                                                                                                                 \n",
        "Example:"
      ],
      "metadata": {
        "id": "CEXnWa62r7Bs"
      }
    },
    {
      "cell_type": "code",
      "source": [
        "numbers = [1, 2, 3, 4]\n",
        "squared = map(lambda x: x**2, numbers)\n",
        "print(list(squared))"
      ],
      "metadata": {
        "colab": {
          "base_uri": "https://localhost:8080/"
        },
        "id": "LXyTDKZHsfr9",
        "outputId": "f05bf6d5-3b78-4ac1-e59d-f2fa0a662303"
      },
      "execution_count": null,
      "outputs": [
        {
          "output_type": "stream",
          "name": "stdout",
          "text": [
            "[1, 4, 9, 16]\n"
          ]
        }
      ]
    },
    {
      "cell_type": "markdown",
      "source": [
        "Purpose:\n",
        "-To simplify applying a function to all elements in an iterable without explicit loops.                                                                 \n",
        "-Makes code concise and functional.                                             \n",
        "Typical Use Cases:                                                              \n",
        "1.Transforming Data:"
      ],
      "metadata": {
        "id": "P056H21_tJHn"
      }
    },
    {
      "cell_type": "code",
      "source": [
        "words = [\"hello\", \"world\"]\n",
        "uppercased = map(str.upper, words)\n",
        "print(list(uppercased))"
      ],
      "metadata": {
        "colab": {
          "base_uri": "https://localhost:8080/"
        },
        "id": "7nd0CG2ntEPo",
        "outputId": "d28314f3-a6ad-4ab4-eb2a-77d3abb41271"
      },
      "execution_count": null,
      "outputs": [
        {
          "output_type": "stream",
          "name": "stdout",
          "text": [
            "['HELLO', 'WORLD']\n"
          ]
        }
      ]
    },
    {
      "cell_type": "markdown",
      "source": [
        "2.Applying Complex Functions:"
      ],
      "metadata": {
        "id": "eDEPBtvbtlPc"
      }
    },
    {
      "cell_type": "code",
      "source": [
        "def add_ten(x):\n",
        "    return x + 10\n",
        "result = map(add_ten, [5, 10, 15])\n",
        "print(list(result))"
      ],
      "metadata": {
        "colab": {
          "base_uri": "https://localhost:8080/"
        },
        "id": "RMIs8V7ath65",
        "outputId": "ea9a5461-7931-4e59-e332-3852cf64f038"
      },
      "execution_count": null,
      "outputs": [
        {
          "output_type": "stream",
          "name": "stdout",
          "text": [
            "[15, 20, 25]\n"
          ]
        }
      ]
    },
    {
      "cell_type": "markdown",
      "source": [
        "3.Multiple Iterables (if the function takes multiple arguments):"
      ],
      "metadata": {
        "id": "5Z_6GOhAtxm-"
      }
    },
    {
      "cell_type": "code",
      "source": [
        "nums1 = [1, 2, 3]\n",
        "nums2 = [4, 5, 6]\n",
        "summed = map(lambda x, y: x + y, nums1, nums2)\n",
        "print(list(summed))"
      ],
      "metadata": {
        "colab": {
          "base_uri": "https://localhost:8080/"
        },
        "id": "gcWe7VqUtwEB",
        "outputId": "27d926f3-b9ee-4e4c-ff08-d762d0b60de9"
      },
      "execution_count": null,
      "outputs": [
        {
          "output_type": "stream",
          "name": "stdout",
          "text": [
            "[5, 7, 9]\n"
          ]
        }
      ]
    },
    {
      "cell_type": "markdown",
      "source": [
        "10.What is the difference between `map()`, `reduce()`, and `filter()` functions in Python?                                                                      \n",
        "->Here’s a concise comparison of the map(), reduce(), and filter() functions in Python, along with examples:                                                    \n",
        "\n",
        "1.map()                                                                         \n",
        "-Purpose: Applies a function to every item in an iterable and returns an        iterator with the transformed items.                                            \n",
        "-Use Case:Transformation.                                                       \n",
        "Example:"
      ],
      "metadata": {
        "id": "edWllEtsuE2A"
      }
    },
    {
      "cell_type": "code",
      "source": [
        "numbers = [1, 2, 3]\n",
        "squared = map(lambda x: x**2, numbers)\n",
        "print(list(squared))"
      ],
      "metadata": {
        "colab": {
          "base_uri": "https://localhost:8080/"
        },
        "id": "EGXQ1APdu0Pj",
        "outputId": "46ec6ab0-732b-4b9a-f1a4-e2e680b470b9"
      },
      "execution_count": null,
      "outputs": [
        {
          "output_type": "stream",
          "name": "stdout",
          "text": [
            "[1, 4, 9]\n"
          ]
        }
      ]
    },
    {
      "cell_type": "markdown",
      "source": [
        "2.filter()                                                                      \n",
        "-Purpose: Filters items from an iterable based on a predicate (a function       returning True or False).                                                       \n",
        "-Use Case: Selection.                                                           \n",
        "Example:"
      ],
      "metadata": {
        "id": "gkMgtWndu80E"
      }
    },
    {
      "cell_type": "code",
      "source": [
        "numbers = [1, 2, 3, 4, 5]\n",
        "even = filter(lambda x: x % 2 == 0, numbers)\n",
        "print(list(even))"
      ],
      "metadata": {
        "colab": {
          "base_uri": "https://localhost:8080/"
        },
        "id": "Pw3YjfEJu56r",
        "outputId": "21c8cc9c-a63a-4cea-9e79-3d00e3273a4b"
      },
      "execution_count": null,
      "outputs": [
        {
          "output_type": "stream",
          "name": "stdout",
          "text": [
            "[2, 4]\n"
          ]
        }
      ]
    },
    {
      "cell_type": "markdown",
      "source": [
        "3.reduce()                                                                      \n",
        "-Purpose: Aggregates items in an iterable into a single value by applying a      function cumulatively. (Requires importing from functools.)                     \n",
        "-Use Case:Reduction.                                                            \n",
        "Example:"
      ],
      "metadata": {
        "id": "9i0uDk0avX49"
      }
    },
    {
      "cell_type": "code",
      "source": [
        "from functools import reduce\n",
        "numbers = [1, 2, 3, 4]\n",
        "product = reduce(lambda x, y: x * y, numbers)\n",
        "print(product)"
      ],
      "metadata": {
        "colab": {
          "base_uri": "https://localhost:8080/"
        },
        "id": "Puqd6Za2vSCT",
        "outputId": "815fc0d2-f270-47c7-e2dc-a9af74d688e2"
      },
      "execution_count": null,
      "outputs": [
        {
          "output_type": "stream",
          "name": "stdout",
          "text": [
            "24\n"
          ]
        }
      ]
    },
    {
      "cell_type": "markdown",
      "source": [
        "11.Using pen & Paper write the internal mechanism for sum operation using       reduce function on this given                                                   \n",
        "list:[47,11,42,13];                                                             \n",
        "\n",
        "(Attach paper image for this answer) in doc or colab notebook.                  \n",
        "->![reduce_sum_mechanism.png](data:image/png;base64,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)"
      ],
      "metadata": {
        "id": "mcdB0sNQy3RU"
      }
    },
    {
      "cell_type": "markdown",
      "source": [
        "##PRATICAL QUESTIONS:"
      ],
      "metadata": {
        "id": "yHmdmemXzQ0M"
      }
    },
    {
      "cell_type": "markdown",
      "source": [
        "1.Write a Python function that takes a list of numbers as input and returns the sum of all even numbers in                                                      \n",
        "the list."
      ],
      "metadata": {
        "id": "tQ00L2zyze7L"
      }
    },
    {
      "cell_type": "code",
      "source": [
        "def sum_of_even_numbers(numbers):\n",
        "    even_sum = 0\n",
        "    for num in numbers:\n",
        "        if num % 2 == 0:\n",
        "            even_sum += num\n",
        "    return even_sum\n",
        "\n",
        "\n",
        "numbers = [47, 11, 42, 13, 88, 56]\n",
        "result = sum_of_even_numbers(numbers)\n",
        "print(\"Sum of even numbers:\", result)"
      ],
      "metadata": {
        "colab": {
          "base_uri": "https://localhost:8080/"
        },
        "id": "On3V6t5uzK7L",
        "outputId": "77d10c10-39b8-4ee2-be52-07a02a3f88b8"
      },
      "execution_count": null,
      "outputs": [
        {
          "output_type": "stream",
          "name": "stdout",
          "text": [
            "Sum of even numbers: 186\n"
          ]
        }
      ]
    },
    {
      "cell_type": "markdown",
      "source": [
        "2.Create a Python function that accepts a string and returns the reverse of     that string."
      ],
      "metadata": {
        "id": "1r1Gw0DN0IM0"
      }
    },
    {
      "cell_type": "code",
      "source": [
        "def reverse_string(input_string):\n",
        "    return input_string[::-1]\n",
        "\n",
        "string = \"hello\"\n",
        "reversed_string = reverse_string(string)\n",
        "print(\"Reversed string:\", reversed_string)"
      ],
      "metadata": {
        "colab": {
          "base_uri": "https://localhost:8080/"
        },
        "id": "gGcIgSuU0EHS",
        "outputId": "ee086177-5651-492f-b0a2-9c080fdd2bff"
      },
      "execution_count": null,
      "outputs": [
        {
          "output_type": "stream",
          "name": "stdout",
          "text": [
            "Reversed string: olleh\n"
          ]
        }
      ]
    },
    {
      "cell_type": "markdown",
      "source": [
        "3.Implement a Python function that takes a list of integers and returns a new   list containing the squares of                                                  \n",
        "each number."
      ],
      "metadata": {
        "id": "tjEStbGg0mey"
      }
    },
    {
      "cell_type": "code",
      "source": [
        "def square_numbers(numbers):\n",
        "    return [num ** 2 for num in numbers]\n",
        "\n",
        "numbers = [1, 2, 3, 4, 5]\n",
        "squared_numbers = square_numbers(numbers)\n",
        "print(\"Squared numbers:\", squared_numbers)"
      ],
      "metadata": {
        "colab": {
          "base_uri": "https://localhost:8080/"
        },
        "id": "aTeMqT_30cq7",
        "outputId": "3115adec-9c08-47a1-b81a-cf1a53aa9220"
      },
      "execution_count": null,
      "outputs": [
        {
          "output_type": "stream",
          "name": "stdout",
          "text": [
            "Squared numbers: [1, 4, 9, 16, 25]\n"
          ]
        }
      ]
    },
    {
      "cell_type": "markdown",
      "source": [
        "4.Write a Python function that checks if a given number is prime or not from 1  to 200."
      ],
      "metadata": {
        "id": "Uqriz6xi08ME"
      }
    },
    {
      "cell_type": "code",
      "source": [
        "def is_prime(number):\n",
        "    if number <= 1:\n",
        "        return False\n",
        "    for i in range(2, int(number ** 0.5) + 1):\n",
        "        if number % i == 0:\n",
        "            return False\n",
        "    return True\n",
        "\n",
        "# Example usage: Checking prime numbers from 1 to 200\n",
        "prime_numbers = [num for num in range(1, 201) if is_prime(num)]\n",
        "print(\"Prime numbers between 1 and 200:\", prime_numbers)"
      ],
      "metadata": {
        "colab": {
          "base_uri": "https://localhost:8080/"
        },
        "id": "ATGx7CKe0ztZ",
        "outputId": "5126cb49-afa7-40e5-df5c-42a5880535be"
      },
      "execution_count": null,
      "outputs": [
        {
          "output_type": "stream",
          "name": "stdout",
          "text": [
            "Prime numbers between 1 and 200: [2, 3, 5, 7, 11, 13, 17, 19, 23, 29, 31, 37, 41, 43, 47, 53, 59, 61, 67, 71, 73, 79, 83, 89, 97, 101, 103, 107, 109, 113, 127, 131, 137, 139, 149, 151, 157, 163, 167, 173, 179, 181, 191, 193, 197, 199]\n"
          ]
        }
      ]
    },
    {
      "cell_type": "markdown",
      "source": [
        "5.Create an iterator class in Python that generates the Fibonacci sequence up   to a specified number of                                                        \n",
        "terms."
      ],
      "metadata": {
        "id": "gd1vQp_U1KiE"
      }
    },
    {
      "cell_type": "code",
      "source": [
        "class FibonacciIterator:\n",
        "    def __init__(self, n):\n",
        "        self.n = n\n",
        "        self.a, self.b = 0, 1\n",
        "\n",
        "    def __iter__(self):\n",
        "        return self\n",
        "\n",
        "    def __next__(self):\n",
        "        if self.n <= 0:\n",
        "            raise StopIteration\n",
        "        else:\n",
        "            result = self.a\n",
        "            self.a, self.b = self.b, self.a + self.b\n",
        "            self.n -= 1\n",
        "            return result\n",
        "\n",
        "# Example usage:\n",
        "fib = FibonacciIterator(10)\n",
        "for num in fib:\n",
        "    print(num)"
      ],
      "metadata": {
        "colab": {
          "base_uri": "https://localhost:8080/"
        },
        "id": "8CqpL_wW1H0b",
        "outputId": "824fe8f6-977b-46c9-87f6-d30d8f16a47d"
      },
      "execution_count": null,
      "outputs": [
        {
          "output_type": "stream",
          "name": "stdout",
          "text": [
            "0\n",
            "1\n",
            "1\n",
            "2\n",
            "3\n",
            "5\n",
            "8\n",
            "13\n",
            "21\n",
            "34\n"
          ]
        }
      ]
    },
    {
      "cell_type": "markdown",
      "source": [
        "6.Write a generator function in Python that yields the powers of 2 up to a      given exponent.\n",
        "\n"
      ],
      "metadata": {
        "id": "T3yui8EN1lLl"
      }
    },
    {
      "cell_type": "code",
      "source": [
        "def powers_of_2(exponent):\n",
        "    for i in range(exponent + 1):\n",
        "        yield 2 ** i\n",
        "\n",
        "# Example usage:\n",
        "for power in powers_of_2(5):\n",
        "    print(power)"
      ],
      "metadata": {
        "colab": {
          "base_uri": "https://localhost:8080/"
        },
        "id": "lkGdnwyc1jbP",
        "outputId": "8fd6067e-1ab0-44ef-e42c-6073cfac3706"
      },
      "execution_count": null,
      "outputs": [
        {
          "output_type": "stream",
          "name": "stdout",
          "text": [
            "1\n",
            "2\n",
            "4\n",
            "8\n",
            "16\n",
            "32\n"
          ]
        }
      ]
    },
    {
      "cell_type": "markdown",
      "source": [
        "7.Implement a generator function that reads a file line by line and yields each line as a string."
      ],
      "metadata": {
        "id": "b4HC2Njv17Mv"
      }
    },
    {
      "cell_type": "code",
      "source": [
        "def read_file_line_by_line(file_path):\n",
        "    try:\n",
        "        # Open the file in read mode\n",
        "        with open(file_path, 'r') as file:\n",
        "            # Loop through each line in the file\n",
        "            for line in file:\n",
        "                yield line.strip()  # Yield each line with newline characters removed\n",
        "    except FileNotFoundError:\n",
        "        print(f\"The file at {file_path} was not found.\")\n",
        "\n",
        "# Example usage\n",
        "file_path = 'example.txt'  # Replace with your file path\n",
        "for line in read_file_line_by_line(file_path):\n",
        "    print(line)\n"
      ],
      "metadata": {
        "colab": {
          "base_uri": "https://localhost:8080/"
        },
        "id": "dxQGjHZs2gt5",
        "outputId": "fd6d17d8-6cae-49a4-f4a4-42e3520e2519"
      },
      "execution_count": null,
      "outputs": [
        {
          "output_type": "stream",
          "name": "stdout",
          "text": [
            "The file at example.txt was not found.\n"
          ]
        }
      ]
    },
    {
      "cell_type": "markdown",
      "source": [
        "8.Use a lambda function in Python to sort a list of tuples based on the second element of each tuple."
      ],
      "metadata": {
        "id": "KFQwq4Vj3G62"
      }
    },
    {
      "cell_type": "code",
      "source": [
        "\n",
        "tuples_list = [(1, 3), (3, 1), (5, 2), (2, 5), (4, 4)]\n",
        "\n",
        "\n",
        "sorted_list = sorted(tuples_list, key=lambda x: x[1])\n",
        "\n",
        "print(\"Sorted list:\", sorted_list)\n"
      ],
      "metadata": {
        "colab": {
          "base_uri": "https://localhost:8080/"
        },
        "id": "kx77hfyj23k9",
        "outputId": "04616a9e-5657-4967-e7db-4199cd147299"
      },
      "execution_count": null,
      "outputs": [
        {
          "output_type": "stream",
          "name": "stdout",
          "text": [
            "Sorted list: [(3, 1), (5, 2), (1, 3), (4, 4), (2, 5)]\n"
          ]
        }
      ]
    },
    {
      "cell_type": "markdown",
      "source": [
        "9.Write a Python program that uses `map()` to convert a list of temperatures from Celsius to Fahrenheit."
      ],
      "metadata": {
        "id": "i3Xpla7A3wEz"
      }
    },
    {
      "cell_type": "code",
      "source": [
        "celsius_temps = [0, 20, 37, 100, -5]\n",
        "def celsius_to_fahrenheit(celsius):\n",
        "    return (celsius * 9/5) + 32\n",
        "fahrenheit_temps = list(map(celsius_to_fahrenheit, celsius_temps))\n",
        "\n",
        "print(\"Celsius temperatures:\", celsius_temps)\n",
        "print(\"Converted Fahrenheit temperatures:\", fahrenheit_temps)\n"
      ],
      "metadata": {
        "colab": {
          "base_uri": "https://localhost:8080/"
        },
        "id": "YN5zBuxN3UwN",
        "outputId": "a4b54719-6e9d-4dc7-b770-47322e5db792"
      },
      "execution_count": null,
      "outputs": [
        {
          "output_type": "stream",
          "name": "stdout",
          "text": [
            "Celsius temperatures: [0, 20, 37, 100, -5]\n",
            "Converted Fahrenheit temperatures: [32.0, 68.0, 98.6, 212.0, 23.0]\n"
          ]
        }
      ]
    },
    {
      "cell_type": "markdown",
      "source": [
        "10.Create a Python program that uses `filter()` to remove all the vowels from a given string."
      ],
      "metadata": {
        "id": "mZOLpCMC4Bk2"
      }
    },
    {
      "cell_type": "code",
      "source": [
        "\n",
        "def remove_vowels(char):\n",
        "    vowels = \"aeiouAEIOU\"\n",
        "    return char not in vowels\n",
        "\n",
        "\n",
        "input_string = \"Hello, World!\"\n",
        "\n",
        "filtered_string = ''.join(filter(remove_vowels, input_string))\n",
        "\n",
        "print(\"Original string:\", input_string)\n",
        "print(\"String without vowels:\", filtered_string)\n"
      ],
      "metadata": {
        "colab": {
          "base_uri": "https://localhost:8080/"
        },
        "id": "W9jcrcx139yF",
        "outputId": "bc11c731-7580-41a3-9bbb-308f99d9c871"
      },
      "execution_count": null,
      "outputs": [
        {
          "output_type": "stream",
          "name": "stdout",
          "text": [
            "Original string: Hello, World!\n",
            "String without vowels: Hll, Wrld!\n"
          ]
        }
      ]
    },
    {
      "cell_type": "markdown",
      "source": [
        "11.Imagine an accounting routine used in a book shop. It works on a list with sublists, which look like this:\n",
        "Order Number\n",
        "\n",
        "34587\n",
        "\n",
        "Book Title and Author\n",
        "\n",
        "Quantity\n",
        "\n",
        "4\n",
        "\n",
        "5\n",
        "\n",
        "3\n",
        "\n",
        "3\n",
        "\n",
        "Price per Item\n",
        "\n",
        "98762\n",
        "\n",
        "Learning Python, Mark Lutz\n",
        "\n",
        "40.95\n",
        "\n",
        "77226\n",
        "\n",
        "Programming Python, Mark Lutz\n",
        "\n",
        "56.80\n",
        "\n",
        "88112\n",
        "\n",
        "Head First Python, Paul Barry\n",
        "\n",
        "32.95\n",
        "\n",
        "Einführung in Python3, Bernd Klein\n",
        "\n",
        "24.99\n",
        "Write a Python program, which returns a list with 2-tuples. Each tuple consists of the order number and the product of the price per item and the quantity. The product should be increased by 10,- € if the value of the order is smaller than 100,00 €.\n",
        "\n",
        "Write a Python program using lambda and map."
      ],
      "metadata": {
        "id": "ViVyrw5Z77E5"
      }
    },
    {
      "cell_type": "markdown",
      "source": [
        "Here's a Python program that uses lambda and map() to return a list of          2-tuples, where each tuple consists of the order number and the product of the  price per item and the quantity. If the product is less than 100 €, an          \n",
        "additional 10 € is added."
      ],
      "metadata": {
        "id": "36HE3Kth8HLm"
      }
    },
    {
      "cell_type": "code",
      "source": [
        "orders = [\n",
        "    [34587, \"Learning Python, Mark Lutz\", 4, 40.95],\n",
        "    [77226, \"Programming Python, Mark Lutz\", 3, 56.80],\n",
        "    [88112, \"Head First Python, Paul Barry\", 5, 32.95],\n",
        "    [98762, \"Einführung in Python3, Bernd Klein\", 3, 24.99]\n",
        "]\n",
        "\n",
        "result = list(map(lambda order: (order[0], (order[2] * order[3]) + 10 if (order[2] * order[3]) < 100 else order[2] * order[3]), orders))\n",
        "\n",
        "print(result)\n"
      ],
      "metadata": {
        "colab": {
          "base_uri": "https://localhost:8080/"
        },
        "id": "mIf4RKpQ7_fH",
        "outputId": "260c13eb-16f6-45cf-bc72-57814d033ae4"
      },
      "execution_count": null,
      "outputs": [
        {
          "output_type": "stream",
          "name": "stdout",
          "text": [
            "[(34587, 163.8), (77226, 170.39999999999998), (88112, 164.75), (98762, 84.97)]\n"
          ]
        }
      ]
    }
  ]
}